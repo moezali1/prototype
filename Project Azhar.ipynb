{
 "cells": [
  {
   "cell_type": "code",
   "execution_count": null,
   "metadata": {},
   "outputs": [],
   "source": [
    "!pip install pyod"
   ]
  },
  {
   "cell_type": "code",
   "execution_count": 1,
   "metadata": {},
   "outputs": [],
   "source": [
    "import pandas as pd\n",
    "import numpy as np \n",
    "import matplotlib.pyplot as plt"
   ]
  },
  {
   "cell_type": "code",
   "execution_count": 2,
   "metadata": {},
   "outputs": [],
   "source": [
    "#READ DATA\n",
    "data = pd.read_csv('anamoly.csv')\n",
    "data = data.drop(['outlier'], axis=1)"
   ]
  },
  {
   "cell_type": "code",
   "execution_count": 34,
   "metadata": {},
   "outputs": [],
   "source": [
    "def setup(data, \n",
    "          target = None, \n",
    "          split = 0.7):\n",
    "    \n",
    "    global X, X_train, X_test, y_train, y_test, seed\n",
    "    \n",
    "    if target == None:\n",
    "        X = data\n",
    "        import random\n",
    "        seed = random.randint(150,900)\n",
    "        \n",
    "    else:\n",
    "        from sklearn.model_selection import train_test_split\n",
    "        X = data.drop(target,axis=1)\n",
    "        y = data[target]\n",
    "        \n",
    "        X_train, X_test, y_train, y_test = train_test_split(X, y, test_size=1-split)\n",
    "        import random\n",
    "        seed = random.randint(150,900)"
   ]
  },
  {
   "cell_type": "code",
   "execution_count": 11,
   "metadata": {},
   "outputs": [],
   "source": [
    "def create_model(estimator = None, \n",
    "                 fraction = 0.05):\n",
    "\n",
    "    #ignore warings\n",
    "    import warnings\n",
    "    warnings.filterwarnings('ignore') \n",
    "\n",
    "    if estimator == 'abod':\n",
    "        from pyod.models.abod import ABOD\n",
    "        model = ABOD(contamination=fraction)\n",
    "    elif estimator == 'cluster':\n",
    "        from pyod.models.cblof import CBLOF\n",
    "        model = CBLOF(contamination=fraction, random_state=seed)\n",
    "    elif estimator == 'cof':\n",
    "        from pyod.models.cof import COF\n",
    "        model = COF(contamination=fraction)        \n",
    "    elif estimator == 'iforest':\n",
    "        from pyod.models.iforest import IForest\n",
    "        model = IForest(contamination=fraction, random_state=seed)              \n",
    "    elif estimator == 'hist':\n",
    "        from pyod.models.hbos import HBOS\n",
    "        model = HBOS(contamination=fraction)         \n",
    "    elif estimator == 'knn':\n",
    "        from pyod.models.knn import KNN\n",
    "        model = KNN(contamination=fraction)          \n",
    "    elif estimator == 'lof':\n",
    "        from pyod.models.lof import LOF\n",
    "        model = LOF(contamination=fraction)      \n",
    "    elif estimator == 'svm':\n",
    "        from pyod.models.ocsvm import OCSVM\n",
    "        model = OCSVM(contamination=fraction)\n",
    "    elif estimator == 'pca':\n",
    "        from pyod.models.pca import PCA\n",
    "        model = PCA(contamination=fraction, random_state=seed)    \n",
    "    elif estimator == 'mcd':\n",
    "        from pyod.models.mcd import MCD\n",
    "        model = MCD(contamination=fraction, random_state=seed)\n",
    "    elif estimator == 'sod':\n",
    "        from pyod.models.sod import SOD\n",
    "        model = SOD(contamination=fraction)         \n",
    "    elif estimator == 'sos':\n",
    "        from pyod.models.sos import SOS\n",
    "        model = SOS(contamination=fraction)       \n",
    "    \n",
    "    model.fit(X)\n",
    "    return model"
   ]
  },
  {
   "cell_type": "code",
   "execution_count": 77,
   "metadata": {},
   "outputs": [],
   "source": [
    "def assign_model(model,\n",
    "                type = None):\n",
    "    \n",
    "    if type == None:\n",
    "        pred_labels = model.labels_\n",
    "        pred_score = model.decision_scores_\n",
    "        X['Label'] = pred_labels\n",
    "        X['Score'] = pred_score\n",
    "        return X\n",
    "    elif type == 'predict':\n",
    "        pred_labels = model.predict(X)\n",
    "        pred_score = model.decision_function(X)\n",
    "        X['Label'] = pred_labels\n",
    "        X['Score'] = pred_score\n",
    "        return X        "
   ]
  },
  {
   "cell_type": "code",
   "execution_count": 91,
   "metadata": {},
   "outputs": [],
   "source": [
    "def plot_model(model):\n",
    "    pass"
   ]
  },
  {
   "cell_type": "code",
   "execution_count": null,
   "metadata": {},
   "outputs": [],
   "source": []
  },
  {
   "cell_type": "code",
   "execution_count": null,
   "metadata": {},
   "outputs": [],
   "source": []
  },
  {
   "cell_type": "code",
   "execution_count": null,
   "metadata": {},
   "outputs": [],
   "source": []
  },
  {
   "cell_type": "code",
   "execution_count": 35,
   "metadata": {},
   "outputs": [],
   "source": [
    "setup(data)"
   ]
  },
  {
   "cell_type": "code",
   "execution_count": 124,
   "metadata": {},
   "outputs": [],
   "source": [
    "abod = create_model('abod')"
   ]
  },
  {
   "cell_type": "code",
   "execution_count": 128,
   "metadata": {},
   "outputs": [
    {
     "name": "stdout",
     "output_type": "stream",
     "text": [
      "ABOD(contamination=0.05, method='fast', n_neighbors=5)\n"
     ]
    }
   ],
   "source": [
    "print(abod)"
   ]
  },
  {
   "cell_type": "code",
   "execution_count": 129,
   "metadata": {},
   "outputs": [],
   "source": [
    "df = assign_model(abod)"
   ]
  },
  {
   "cell_type": "code",
   "execution_count": 130,
   "metadata": {},
   "outputs": [
    {
     "data": {
      "text/html": [
       "<div>\n",
       "<style scoped>\n",
       "    .dataframe tbody tr th:only-of-type {\n",
       "        vertical-align: middle;\n",
       "    }\n",
       "\n",
       "    .dataframe tbody tr th {\n",
       "        vertical-align: top;\n",
       "    }\n",
       "\n",
       "    .dataframe thead th {\n",
       "        text-align: right;\n",
       "    }\n",
       "</style>\n",
       "<table border=\"1\" class=\"dataframe\">\n",
       "  <thead>\n",
       "    <tr style=\"text-align: right;\">\n",
       "      <th></th>\n",
       "      <th>0</th>\n",
       "      <th>1</th>\n",
       "      <th>2</th>\n",
       "      <th>3</th>\n",
       "      <th>4</th>\n",
       "      <th>5</th>\n",
       "      <th>6</th>\n",
       "      <th>7</th>\n",
       "      <th>8</th>\n",
       "      <th>9</th>\n",
       "      <th>Label</th>\n",
       "      <th>Score</th>\n",
       "    </tr>\n",
       "  </thead>\n",
       "  <tbody>\n",
       "    <tr>\n",
       "      <td>0</td>\n",
       "      <td>0.263995</td>\n",
       "      <td>0.764929</td>\n",
       "      <td>0.138424</td>\n",
       "      <td>0.935242</td>\n",
       "      <td>0.605867</td>\n",
       "      <td>0.518790</td>\n",
       "      <td>0.912225</td>\n",
       "      <td>0.608234</td>\n",
       "      <td>0.723782</td>\n",
       "      <td>0.733591</td>\n",
       "      <td>0</td>\n",
       "      <td>-0.269018</td>\n",
       "    </tr>\n",
       "    <tr>\n",
       "      <td>1</td>\n",
       "      <td>0.546092</td>\n",
       "      <td>0.653975</td>\n",
       "      <td>0.065575</td>\n",
       "      <td>0.227772</td>\n",
       "      <td>0.845269</td>\n",
       "      <td>0.837066</td>\n",
       "      <td>0.272379</td>\n",
       "      <td>0.331679</td>\n",
       "      <td>0.429297</td>\n",
       "      <td>0.367422</td>\n",
       "      <td>0</td>\n",
       "      <td>-0.749131</td>\n",
       "    </tr>\n",
       "    <tr>\n",
       "      <td>2</td>\n",
       "      <td>0.336714</td>\n",
       "      <td>0.538842</td>\n",
       "      <td>0.192801</td>\n",
       "      <td>0.553563</td>\n",
       "      <td>0.074515</td>\n",
       "      <td>0.332993</td>\n",
       "      <td>0.365792</td>\n",
       "      <td>0.861309</td>\n",
       "      <td>0.899017</td>\n",
       "      <td>0.088600</td>\n",
       "      <td>0</td>\n",
       "      <td>-1.231164</td>\n",
       "    </tr>\n",
       "    <tr>\n",
       "      <td>3</td>\n",
       "      <td>0.092108</td>\n",
       "      <td>0.995017</td>\n",
       "      <td>0.014465</td>\n",
       "      <td>0.176371</td>\n",
       "      <td>0.241530</td>\n",
       "      <td>0.514724</td>\n",
       "      <td>0.562208</td>\n",
       "      <td>0.158963</td>\n",
       "      <td>0.073715</td>\n",
       "      <td>0.208463</td>\n",
       "      <td>1</td>\n",
       "      <td>-0.019604</td>\n",
       "    </tr>\n",
       "    <tr>\n",
       "      <td>4</td>\n",
       "      <td>0.325261</td>\n",
       "      <td>0.805968</td>\n",
       "      <td>0.957033</td>\n",
       "      <td>0.331665</td>\n",
       "      <td>0.307923</td>\n",
       "      <td>0.355315</td>\n",
       "      <td>0.501899</td>\n",
       "      <td>0.558449</td>\n",
       "      <td>0.885169</td>\n",
       "      <td>0.182754</td>\n",
       "      <td>1</td>\n",
       "      <td>-0.145362</td>\n",
       "    </tr>\n",
       "  </tbody>\n",
       "</table>\n",
       "</div>"
      ],
      "text/plain": [
       "          0         1         2         3         4         5         6  \\\n",
       "0  0.263995  0.764929  0.138424  0.935242  0.605867  0.518790  0.912225   \n",
       "1  0.546092  0.653975  0.065575  0.227772  0.845269  0.837066  0.272379   \n",
       "2  0.336714  0.538842  0.192801  0.553563  0.074515  0.332993  0.365792   \n",
       "3  0.092108  0.995017  0.014465  0.176371  0.241530  0.514724  0.562208   \n",
       "4  0.325261  0.805968  0.957033  0.331665  0.307923  0.355315  0.501899   \n",
       "\n",
       "          7         8         9  Label     Score  \n",
       "0  0.608234  0.723782  0.733591      0 -0.269018  \n",
       "1  0.331679  0.429297  0.367422      0 -0.749131  \n",
       "2  0.861309  0.899017  0.088600      0 -1.231164  \n",
       "3  0.158963  0.073715  0.208463      1 -0.019604  \n",
       "4  0.558449  0.885169  0.182754      1 -0.145362  "
      ]
     },
     "execution_count": 130,
     "metadata": {},
     "output_type": "execute_result"
    }
   ],
   "source": [
    "df.head()"
   ]
  },
  {
   "cell_type": "code",
   "execution_count": null,
   "metadata": {},
   "outputs": [],
   "source": []
  }
 ],
 "metadata": {
  "kernelspec": {
   "display_name": "Python 3",
   "language": "python",
   "name": "python3"
  },
  "language_info": {
   "codemirror_mode": {
    "name": "ipython",
    "version": 3
   },
   "file_extension": ".py",
   "mimetype": "text/x-python",
   "name": "python",
   "nbconvert_exporter": "python",
   "pygments_lexer": "ipython3",
   "version": "3.7.4"
  }
 },
 "nbformat": 4,
 "nbformat_minor": 2
}
